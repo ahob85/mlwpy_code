{
 "cells": [
  {
   "cell_type": "code",
   "execution_count": 1,
   "metadata": {},
   "outputs": [
    {
     "name": "stdout",
     "output_type": "stream",
     "text": [
      "kNN: 0.96\n",
      " NB: 0.81\n"
     ]
    }
   ],
   "source": [
    "from sklearn import (datasets, metrics,\n",
    "                    model_selection as skms,\n",
    "                    naive_bayes, neighbors)\n",
    "\n",
    "# we set random_state so the results are reproducible\n",
    "# otherwise, we get different training and testing sets\n",
    "iris = datasets.load_iris()\n",
    "(iris_train_features, iris_test_features,\n",
    " iris_train_target, iris_test_target) = skms.train_test_split(iris.data,\n",
    "                                                             iris.target,\n",
    "                                                             test_size=.90,\n",
    "                                                             random_state=42)\n",
    "\n",
    "models = {'kNN': neighbors.KNeighborsClassifier(n_neighbors=3),\n",
    "         'NB': naive_bayes.GaussianNB()}\n",
    "\n",
    "for name, model in models.items():\n",
    "    fit = model.fit(iris_train_features, iris_train_target)\n",
    "    predictions = fit.predict(iris_test_features)\n",
    "    score = metrics.accuracy_score(iris_test_target, predictions)\n",
    "    print(\"{:>3s}: {:0.2f}\".format(name, score))"
   ]
  },
  {
   "cell_type": "code",
   "execution_count": null,
   "metadata": {},
   "outputs": [],
   "source": []
  }
 ],
 "metadata": {
  "kernelspec": {
   "display_name": "Python 3",
   "language": "python",
   "name": "python3"
  },
  "language_info": {
   "codemirror_mode": {
    "name": "ipython",
    "version": 3
   },
   "file_extension": ".py",
   "mimetype": "text/x-python",
   "name": "python",
   "nbconvert_exporter": "python",
   "pygments_lexer": "ipython3",
   "version": "3.8.3"
  }
 },
 "nbformat": 4,
 "nbformat_minor": 4
}
