{
 "cells": [
  {
   "cell_type": "code",
   "execution_count": 1,
   "metadata": {},
   "outputs": [],
   "source": [
    "from mlwpy import *\n",
    "%matplotlib inline"
   ]
  },
  {
   "cell_type": "code",
   "execution_count": 2,
   "metadata": {},
   "outputs": [
    {
     "data": {
      "text/plain": [
       "4"
      ]
     },
     "execution_count": 2,
     "metadata": {},
     "output_type": "execute_result"
    }
   ],
   "source": [
    "np.random.randint(1, 7)"
   ]
  },
  {
   "cell_type": "code",
   "execution_count": 3,
   "metadata": {},
   "outputs": [
    {
     "data": {
      "text/plain": [
       "<BarContainer object of 6 artists>"
      ]
     },
     "execution_count": 3,
     "metadata": {},
     "output_type": "execute_result"
    },
    {
     "data": {
      "image/png": "[encoded data removed]",
      "text/plain": [
       "<Figure size 576x216 with 2 Axes>"
      ]
     },
     "metadata": {
      "needs_background": "light"
     },
     "output_type": "display_data"
    }
   ],
   "source": [
    "few_rolls = np.random.randint(1, 7, size=10)\n",
    "many_rolls = np.random.randint(1, 7, size=1000)\n",
    "\n",
    "few_counts = np.histogram(few_rolls, bins=np.arange(.5, 7.5))[0]\n",
    "many_counts = np.histogram(many_rolls, bins=np.arange(.5, 7.5))[0]\n",
    "\n",
    "fig, (ax1, ax2) = plt.subplots(1, 2, figsize=(8, 3))\n",
    "ax1.bar(np.arange(1, 7), few_counts)\n",
    "ax2.bar(np.arange(1, 7), many_counts)"
   ]
  },
  {
   "cell_type": "code",
   "execution_count": 4,
   "metadata": {},
   "outputs": [
    {
     "data": {
      "text/plain": [
       "35.85"
      ]
     },
     "execution_count": 4,
     "metadata": {},
     "output_type": "execute_result"
    }
   ],
   "source": [
    "quantity = [2, 12, 3]\n",
    "costs = [12.3, .5, 1.75]\n",
    "partial_cost = []\n",
    "for q,c in zip(quantity, costs):\n",
    "    partial_cost.append(q*c)\n",
    "sum(partial_cost)"
   ]
  },
  {
   "cell_type": "code",
   "execution_count": 5,
   "metadata": {},
   "outputs": [
    {
     "data": {
      "text/plain": [
       "36.25"
      ]
     },
     "execution_count": 5,
     "metadata": {},
     "output_type": "execute_result"
    }
   ],
   "source": [
    "quantity = np.array([2, 12, 3])\n",
    "costs = np.array([12.5, .5, 1.75])\n",
    "np.sum(quantity * costs)"
   ]
  },
  {
   "cell_type": "code",
   "execution_count": 6,
   "metadata": {},
   "outputs": [
    {
     "name": "stdout",
     "output_type": "stream",
     "text": [
      "36.25\n",
      "36.25\n",
      "36.25\n"
     ]
    }
   ],
   "source": [
    "print(quantity.dot(costs),\n",
    "     np.dot(quantity, costs),\n",
    "     quantity @ costs,\n",
    "    \n",
    "    sep = '\\n')"
   ]
  },
  {
   "cell_type": "code",
   "execution_count": 7,
   "metadata": {},
   "outputs": [
    {
     "name": "stdout",
     "output_type": "stream",
     "text": [
      "weights: [0.3333 0.3333 0.3333]\n",
      "via mean: 20.0\n",
      "via weights and dot: 20.0\n"
     ]
    }
   ],
   "source": [
    "values = np.array([10.0, 20.0, 30.0])\n",
    "weights = np.full_like(values, 1/3) # repeated (1/3)\n",
    "\n",
    "print(\"weights:\", weights)\n",
    "print(\"via mean:\", np.mean(values))\n",
    "print(\"via weights and dot:\" , np.dot(weights, values))"
   ]
  },
  {
   "cell_type": "code",
   "execution_count": 8,
   "metadata": {},
   "outputs": [
    {
     "data": {
      "text/plain": [
       "17.5"
      ]
     },
     "execution_count": 8,
     "metadata": {},
     "output_type": "execute_result"
    }
   ],
   "source": [
    "values = np.array([10, 20, 30])\n",
    "weights = np.array([.5, .25, .25])\n",
    "np.dot(weights, values)"
   ]
  },
  {
   "cell_type": "code",
   "execution_count": 9,
   "metadata": {},
   "outputs": [
    {
     "name": "stdout",
     "output_type": "stream",
     "text": [
      "0.25\n"
     ]
    }
   ],
   "source": [
    "# Illustration of weighted average\n",
    "# Roll a six-sided die. Heads and you get $1, tails and you lose $0.50. \n",
    "\n",
    "# First, get the dot product (weighted sum).\n",
    "probs = np.array([.5, .5]) # These are the values\n",
    "payoffs = np.array([1.0, -0.5]) # These are the weights, or the \"costs\" per value\n",
    "\n",
    "print(np.dot(payoffs, probs)) # 0.25, the \"expected value\""
   ]
  },
  {
   "cell_type": "code",
   "execution_count": 10,
   "metadata": {},
   "outputs": [
    {
     "name": "stdout",
     "output_type": "stream",
     "text": [
      "2542.0\n"
     ]
    }
   ],
   "source": [
    "winnings = 0.0\n",
    "for toss_ct in range(10000):\n",
    "    die_toss = np.random.randint(1, 7)\n",
    "    winnings += 1.0 if die_toss % 2 == 0 else -0.5\n",
    "print(winnings)"
   ]
  },
  {
   "cell_type": "code",
   "execution_count": 11,
   "metadata": {},
   "outputs": [
    {
     "name": "stdout",
     "output_type": "stream",
     "text": [
      "20.84\n"
     ]
    }
   ],
   "source": [
    "'''\n",
    "Analogy to understand how weight work.\n",
    "\n",
    "A weight is like the cost of something. Imagine you go to the store.\n",
    "\n",
    "You want to buy \n",
    "2 bags of chips ($2.50 each)\n",
    "3 jars of salsa ($3.28 each)\n",
    "4 bags of shredded cheese ($1.50 each) \n",
    "\n",
    "Your bill would be a linear combination:\n",
    "(2 * 2.5) + (3 * 3.28) + (4 * 1.5) = $20.84\n",
    "\n",
    "Costs represent how much each item \"weighs\" in the total price. It's how\n",
    "much value an item has, in other words.\n",
    "\n",
    "In math we call this \"weighted sum\" or \"dot product\".\n",
    "'''\n",
    "items = np.array([2, 3, 4])\n",
    "costs = np.array([2.5, 3.28, 1.5])\n",
    "\n",
    "print(np.dot(items, costs)) # calculate weighted sum of two arrays"
   ]
  },
  {
   "cell_type": "code",
   "execution_count": 12,
   "metadata": {},
   "outputs": [],
   "source": [
    "x = np.arange(1, 11)"
   ]
  },
  {
   "cell_type": "code",
   "execution_count": 13,
   "metadata": {},
   "outputs": [
    {
     "data": {
      "text/plain": [
       "array([ 1,  2,  3,  4,  5,  6,  7,  8,  9, 10])"
      ]
     },
     "execution_count": 13,
     "metadata": {},
     "output_type": "execute_result"
    }
   ],
   "source": [
    "x"
   ]
  },
  {
   "cell_type": "code",
   "execution_count": 14,
   "metadata": {},
   "outputs": [],
   "source": [
    "y = np.full_like(x, 1/2)"
   ]
  },
  {
   "cell_type": "code",
   "execution_count": 15,
   "metadata": {},
   "outputs": [
    {
     "data": {
      "text/plain": [
       "array([0, 0, 0, 0, 0, 0, 0, 0, 0, 0])"
      ]
     },
     "execution_count": 15,
     "metadata": {},
     "output_type": "execute_result"
    }
   ],
   "source": [
    "y = np.full_like(x, 1//2)\n",
    "y"
   ]
  },
  {
   "cell_type": "code",
   "execution_count": 16,
   "metadata": {},
   "outputs": [
    {
     "data": {
      "text/plain": [
       "array([2, 2, 2, 2, 2, 2, 2, 2, 2, 2])"
      ]
     },
     "execution_count": 16,
     "metadata": {},
     "output_type": "execute_result"
    }
   ],
   "source": [
    "y = np.full_like(x, 2)\n",
    "y"
   ]
  },
  {
   "cell_type": "code",
   "execution_count": 17,
   "metadata": {},
   "outputs": [
    {
     "data": {
      "text/plain": [
       "array([1, 1, 1, 1, 1, 1, 1, 1, 1, 1])"
      ]
     },
     "execution_count": 17,
     "metadata": {},
     "output_type": "execute_result"
    }
   ],
   "source": [
    "y = np.ones_like(x)\n",
    "y\n"
   ]
  },
  {
   "cell_type": "code",
   "execution_count": 18,
   "metadata": {},
   "outputs": [
    {
     "data": {
      "text/plain": [
       "Text(0, 0.5, 'Cost\\n(Parking Only)')"
      ]
     },
     "execution_count": 18,
     "metadata": {},
     "output_type": "execute_result"
    },
    {
     "data": {
      "image/png": "[encoded data removed]",
      "text/plain": [
       "<Figure size 432x288 with 1 Axes>"
      ]
     },
     "metadata": {
      "needs_background": "light"
     },
     "output_type": "display_data"
    }
   ],
   "source": [
    "people = np.arange(1, 11)\n",
    "total_cost = np.full_like(people, 40.0)\n",
    "ax = plt.gca()\n",
    "ax.plot(people, total_cost)\n",
    "ax.set_xlabel(\"# People\")\n",
    "ax.set_ylabel(\"Cost\\n(Parking Only)\")"
   ]
  },
  {
   "cell_type": "code",
   "execution_count": 19,
   "metadata": {},
   "outputs": [
    {
     "data": {
      "text/html": [
       "<div>\n",
       "<style scoped>\n",
       "    .dataframe tbody tr th:only-of-type {\n",
       "        vertical-align: middle;\n",
       "    }\n",
       "\n",
       "    .dataframe tbody tr th {\n",
       "        vertical-align: top;\n",
       "    }\n",
       "\n",
       "    .dataframe thead th {\n",
       "        text-align: right;\n",
       "    }\n",
       "</style>\n",
       "<table border=\"1\" class=\"dataframe\">\n",
       "  <thead>\n",
       "    <tr style=\"text-align: right;\">\n",
       "      <th></th>\n",
       "      <th>1</th>\n",
       "      <th>2</th>\n",
       "      <th>3</th>\n",
       "      <th>4</th>\n",
       "      <th>5</th>\n",
       "      <th>6</th>\n",
       "      <th>7</th>\n",
       "      <th>8</th>\n",
       "      <th>9</th>\n",
       "      <th>10</th>\n",
       "    </tr>\n",
       "  </thead>\n",
       "  <tbody>\n",
       "    <tr>\n",
       "      <th>total_cost</th>\n",
       "      <td>120</td>\n",
       "      <td>200</td>\n",
       "      <td>280</td>\n",
       "      <td>360</td>\n",
       "      <td>440</td>\n",
       "      <td>520</td>\n",
       "      <td>600</td>\n",
       "      <td>680</td>\n",
       "      <td>760</td>\n",
       "      <td>840</td>\n",
       "    </tr>\n",
       "  </tbody>\n",
       "</table>\n",
       "</div>"
      ],
      "text/latex": [
       "{\\centering\n",
       "\\begin{tabular}{lrrrrrrrrrr}\n",
       "\\toprule\n",
       "{} &   1  &   2  &   3  &   4  &   5  &   6  &   7  &   8  &   9  &   10 \\\\\n",
       "\\midrule\n",
       "total\\_cost &  120 &  200 &  280 &  360 &  440 &  520 &  600 &  680 &  760 &  840 \\\\\n",
       "\\bottomrule\n",
       "\\end{tabular}\n",
       "\n",
       "\\medskip}"
      ],
      "text/plain": [
       "             1    2    3    4    5    6    7    8    9    10\n",
       "total_cost  120  200  280  360  440  520  600  680  760  840"
      ]
     },
     "metadata": {},
     "output_type": "display_data"
    }
   ],
   "source": [
    "people = np.arange(1, 11)\n",
    "total_cost = 80.0 * people + 40.0\n",
    "\n",
    "# .T (transpose) to save vertical space in printout\n",
    "display(pd.DataFrame({'total_cost':total_cost.astype(np.int)},\n",
    "                    index=people).T)"
   ]
  },
  {
   "cell_type": "code",
   "execution_count": 20,
   "metadata": {},
   "outputs": [
    {
     "data": {
      "text/plain": [
       "Text(0.5, 0, 'People')"
      ]
     },
     "execution_count": 20,
     "metadata": {},
     "output_type": "execute_result"
    },
    {
     "data": {
      "image/png": "[encoded data removed]",
      "text/plain": [
       "<Figure size 432x288 with 1 Axes>"
      ]
     },
     "metadata": {
      "needs_background": "light"
     },
     "output_type": "display_data"
    }
   ],
   "source": [
    "ax = plt.gca()\n",
    "ax.plot(people, total_cost, 'bo')\n",
    "ax.set_ylabel(\"Total\")\n",
    "ax.set_xlabel(\"People\")"
   ]
  },
  {
   "cell_type": "code",
   "execution_count": 21,
   "metadata": {},
   "outputs": [
    {
     "data": {
      "text/plain": [
       "[<matplotlib.lines.Line2D at 0x7f7f3e267dc0>]"
      ]
     },
     "execution_count": 21,
     "metadata": {},
     "output_type": "execute_result"
    },
    {
     "data": {
      "image/png": "[encoded data removed]",
      "text/plain": [
       "<Figure size 432x288 with 1 Axes>"
      ]
     },
     "metadata": {
      "needs_background": "light"
     },
     "output_type": "display_data"
    }
   ],
   "source": [
    "# paint by number\n",
    "# create 100 x values from -3 to 3\n",
    "xs = np.linspace(-3, 3, 100)\n",
    "\n",
    "# slope (m) and intercept (b)\n",
    "m, b = 1.5, -3\n",
    "\n",
    "ax = plt.gca()\n",
    "ys = m*xs + b\n",
    "ax.plot(xs, ys)\n",
    "\n",
    "ax.set_ylim(-4, 4)\n",
    "high_school_style(ax) # helper function from mlwpy.py\n",
    "\n",
    "ax.plot(0, -3, 'ro') # y-intercept\n",
    "ax.plot(2, 0, 'ro') # 2 steps right (1.5 * 2) means 3 steps up\n",
    "\n",
    "# y = mx + b with m=0 gives b\n",
    "ys = 0 * xs + b\n",
    "ax.plot(xs, ys, 'y')"
   ]
  },
  {
   "cell_type": "code",
   "execution_count": 22,
   "metadata": {},
   "outputs": [
    {
     "data": {
      "text/html": [
       "<div>\n",
       "<style scoped>\n",
       "    .dataframe tbody tr th:only-of-type {\n",
       "        vertical-align: middle;\n",
       "    }\n",
       "\n",
       "    .dataframe tbody tr th {\n",
       "        vertical-align: top;\n",
       "    }\n",
       "\n",
       "    .dataframe thead th {\n",
       "        text-align: right;\n",
       "    }\n",
       "</style>\n",
       "<table border=\"1\" class=\"dataframe\">\n",
       "  <thead>\n",
       "    <tr style=\"text-align: right;\">\n",
       "      <th></th>\n",
       "      <th>0</th>\n",
       "      <th>1</th>\n",
       "    </tr>\n",
       "  </thead>\n",
       "  <tbody>\n",
       "    <tr>\n",
       "      <th>0</th>\n",
       "      <td>-3.0000</td>\n",
       "      <td>1.0000</td>\n",
       "    </tr>\n",
       "    <tr>\n",
       "      <th>1</th>\n",
       "      <td>-2.9394</td>\n",
       "      <td>1.0000</td>\n",
       "    </tr>\n",
       "    <tr>\n",
       "      <th>2</th>\n",
       "      <td>-2.8788</td>\n",
       "      <td>1.0000</td>\n",
       "    </tr>\n",
       "    <tr>\n",
       "      <th>3</th>\n",
       "      <td>-2.8182</td>\n",
       "      <td>1.0000</td>\n",
       "    </tr>\n",
       "    <tr>\n",
       "      <th>4</th>\n",
       "      <td>-2.7576</td>\n",
       "      <td>1.0000</td>\n",
       "    </tr>\n",
       "  </tbody>\n",
       "</table>\n",
       "</div>"
      ],
      "text/latex": [
       "{\\centering\n",
       "\\begin{tabular}{lrr}\n",
       "\\toprule\n",
       "{} &                    0 &                    1 \\\\\n",
       "\\midrule\n",
       "0 &              -3.0000 &               1.0000 \\\\\n",
       "1 &              -2.9394 &               1.0000 \\\\\n",
       "2 &              -2.8788 &               1.0000 \\\\\n",
       "3 &              -2.8182 &               1.0000 \\\\\n",
       "4 &              -2.7576 &               1.0000 \\\\\n",
       "\\bottomrule\n",
       "\\end{tabular}\n",
       "\n",
       "\\medskip}"
      ],
      "text/plain": [
       "                     0                    1\n",
       "0              -3.0000               1.0000\n",
       "1              -2.9394               1.0000\n",
       "2              -2.8788               1.0000\n",
       "3              -2.8182               1.0000\n",
       "4              -2.7576               1.0000"
      ]
     },
     "metadata": {},
     "output_type": "display_data"
    }
   ],
   "source": [
    "# np.c_[] lets us create an array column-by-column\n",
    "xs = np.linspace(-3, 3, 100)\n",
    "xs_p1 = np.c_[xs, np.ones_like(xs)]\n",
    "\n",
    "# view the first few rows\n",
    "display(pd.DataFrame(xs_p1).head())"
   ]
  },
  {
   "cell_type": "code",
   "execution_count": 23,
   "metadata": {},
   "outputs": [
    {
     "data": {
      "text/plain": [
       "[<matplotlib.lines.Line2D at 0x7f7f3e226580>]"
      ]
     },
     "execution_count": 23,
     "metadata": {},
     "output_type": "execute_result"
    },
    {
     "data": {
      "image/png": "[encoded data removed]",
      "text/plain": [
       "<Figure size 432x288 with 1 Axes>"
      ]
     },
     "metadata": {
      "needs_background": "light"
     },
     "output_type": "display_data"
    }
   ],
   "source": [
    "w = np.array([1.5, -3])\n",
    "ys = np.dot(xs_p1, w)\n",
    "\n",
    "ax = plt.gca()\n",
    "ax.plot(xs, ys)\n",
    "\n",
    "# styling\n",
    "ax.set_ylim(-4, 4)\n",
    "high_school_style(ax)\n",
    "\n",
    "ax.plot(0, -3, 'ro') # y-intercept\n",
    "ax.plot(2, 0, 'ro')"
   ]
  },
  {
   "cell_type": "code",
   "execution_count": 30,
   "metadata": {},
   "outputs": [
    {
     "data": {
      "text/plain": [
       "(4,)"
      ]
     },
     "execution_count": 30,
     "metadata": {},
     "output_type": "execute_result"
    }
   ],
   "source": [
    "foo = np.array([1, 2, 3, 4])\n",
    "foo.shape"
   ]
  },
  {
   "cell_type": "code",
   "execution_count": 32,
   "metadata": {},
   "outputs": [
    {
     "data": {
      "text/plain": [
       "array([1, 2, 3, 4])"
      ]
     },
     "execution_count": 32,
     "metadata": {},
     "output_type": "execute_result"
    }
   ],
   "source": [
    "np.transpose(foo)"
   ]
  },
  {
   "cell_type": "code",
   "execution_count": 33,
   "metadata": {},
   "outputs": [
    {
     "data": {
      "text/plain": [
       "(4,)"
      ]
     },
     "execution_count": 33,
     "metadata": {},
     "output_type": "execute_result"
    }
   ],
   "source": [
    "np.transpose(foo).shape"
   ]
  },
  {
   "cell_type": "code",
   "execution_count": 40,
   "metadata": {},
   "outputs": [
    {
     "name": "stdout",
     "output_type": "stream",
     "text": [
      "[[ 0]\n",
      " [10]\n",
      " [20]\n",
      " [30]\n",
      " [40]]\n",
      "[[0 1 2 3 4]]\n",
      "[0 1 2 3 4]\n"
     ]
    }
   ],
   "source": [
    "col_vec = np.arange(0, 50, 10).reshape(5, 1)\n",
    "row_vec = np.arange(0, 5).reshape(1, 5)\n",
    "\n",
    "oned_vec = np.arange(5)\n",
    "\n",
    "print(col_vec)\n",
    "print(row_vec)\n",
    "print(oned_vec)"
   ]
  },
  {
   "cell_type": "code",
   "execution_count": null,
   "metadata": {},
   "outputs": [],
   "source": []
  }
 ],
 "metadata": {
  "kernelspec": {
   "display_name": "Python 3",
   "language": "python",
   "name": "python3"
  },
  "language_info": {
   "codemirror_mode": {
    "name": "ipython",
    "version": 3
   },
   "file_extension": ".py",
   "mimetype": "text/x-python",
   "name": "python",
   "nbconvert_exporter": "python",
   "pygments_lexer": "ipython3",
   "version": "3.8.3"
  }
 },
 "nbformat": 4,
 "nbformat_minor": 4
}
