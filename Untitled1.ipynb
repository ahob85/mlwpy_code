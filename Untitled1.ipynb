{
 "cells": [
  {
   "cell_type": "code",
   "execution_count": 3,
   "metadata": {},
   "outputs": [],
   "source": [
    "# setup\n",
    "from mlwpy import *\n",
    "%matplotlib inline"
   ]
  },
  {
   "cell_type": "code",
   "execution_count": 14,
   "metadata": {},
   "outputs": [
    {
     "name": "stdout",
     "output_type": "stream",
     "text": [
      "kNN: 0.95\n",
      " NB: 0.69\n"
     ]
    }
   ],
   "source": [
    "# Simplistic classification, step-by-step\n",
    "\n",
    "# Step 0: import libs\n",
    "from sklearn import (datasets, metrics,\n",
    "                    model_selection as skms, \n",
    "                    naive_bayes, neighbors) # <- Models (i.e., \"machines\")\n",
    "\n",
    "# Step 1: What dataset will you use?\n",
    "my_data = datasets.load_iris() # the iris dataset in sklearn\n",
    "\n",
    "# Step 2: Split dataset into 10% training data, 90% test data. Imagine preparing\n",
    "# for an exam and only studying 10% of the problems. The rest is your \"self-quiz\".\n",
    "(train_features, test_features,\n",
    " train_target, test_target) = skms.train_test_split(my_data.data,\n",
    "                                                    my_data.target,\n",
    "                                                    test_size=.90)\n",
    "\n",
    "# Step 3: What models (i.e., \"machines\") will you use?\n",
    "models = {'kNN': neighbors.KNeighborsClassifier(n_neighbors=3),\n",
    "         'NB': naive_bayes.GaussianNB()}\n",
    "\n",
    "# Step 4: Train the models using the training data from step 2. \n",
    "for name, model in models.items():\n",
    "    trained_model = model.fit(train_features, train_target)\n",
    "    \n",
    "# Step 5: With trained model, generate y-hats (predictions) with test data.\n",
    "    predictions = trained_model.predict(test_features)\n",
    "    \n",
    "# Step 6: How did your models perform? Get a score for each.\n",
    "# \"accuracy\" = total_correct / total_available\n",
    "    score = metrics.accuracy_score(test_target, predictions)\n",
    "    print(\"{:>3s}: {:0.2f}\".format(name, score))"
   ]
  },
  {
   "cell_type": "code",
   "execution_count": null,
   "metadata": {},
   "outputs": [],
   "source": []
  },
  {
   "cell_type": "code",
   "execution_count": null,
   "metadata": {},
   "outputs": [],
   "source": []
  }
 ],
 "metadata": {
  "kernelspec": {
   "display_name": "Python 3",
   "language": "python",
   "name": "python3"
  },
  "language_info": {
   "codemirror_mode": {
    "name": "ipython",
    "version": 3
   },
   "file_extension": ".py",
   "mimetype": "text/x-python",
   "name": "python",
   "nbconvert_exporter": "python",
   "pygments_lexer": "ipython3",
   "version": "3.8.3"
  }
 },
 "nbformat": 4,
 "nbformat_minor": 4
}
